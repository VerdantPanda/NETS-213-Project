{
 "cells": [
  {
   "cell_type": "code",
   "execution_count": 1,
   "metadata": {},
   "outputs": [],
   "source": [
    "import json\n",
    "import datetime\n",
    "import math\n",
    "\n",
    "workers = 0\n",
    "questions = 0\n",
    "answers = 0\n",
    "with open('../Downloads/workers.json') as f:\n",
    "    workers = json.load(f)\n",
    "with open('../Downloads/questions.json') as f2:\n",
    "    questions = json.load(f2)"
   ]
  },
  {
   "cell_type": "code",
   "execution_count": 2,
   "metadata": {},
   "outputs": [],
   "source": [
    "#sort for workers who enter and leave after the whole time\n",
    "def get_timed_workers(workers):\n",
    "    ids = []\n",
    "    for entry in workers:\n",
    "        worker_id = entry['id']\n",
    "        if len(entry['time_left']) == len(entry['time_entered']) and len(entry['time_entered']) >0:\n",
    "            ids.append(worker_id)\n",
    "    return ids"
   ]
  },
  {
   "cell_type": "code",
   "execution_count": 3,
   "metadata": {},
   "outputs": [
    {
     "name": "stdout",
     "output_type": "stream",
     "text": [
      "full timers ['A38DC3BG1ACVZ2', 'Z38DC3BG1ZCVZ2', '1234567X901234', 'A3HZFB2JLF3JMY', 'A3T1M3NZ5UIA56', 'A2YO837C0O1E91', 'A2J3M47NIOC1MC', 'A1RFECS63DTC3U', 'A3QOMMIZTW0XF1', 'A11X5M6KPGSTTC', 'AZ0VPYLKIPMRF', 'A1PUSSRD8P5HHH', '123456PJ901234', 'A1DQ5LRPJJLHHJ', 'A34SLWTNACPBMO', 'A3A3R002WFC7U3', 'A1WT9J6TTJDLKN', 'A354IONQNVAG91', 'A2WI5DVHW58TY4', 'ADVJB810K4OYR', 'ATYC149F9CG7M', 'A1VOTY43NOW4MW', 'AT6ICEVY8RM8D', 'A22EUHQ13BXM5D', 'A2MHLDP4G78P23', 'A1CQDLI6UA2IW4', 'A3IXJO2X4M1D7U', 'A1UOH37J26WEBR', 'A25HPJJ60WOVPZ', 'A25YHJE4ME90MI', 'A24SLIUJ4YTF1Y', 'A1QCTGDWPL7F5G', 'A1W37DN2IF8QXV', 'A3E9QUHIGN6STZ', 'A2I2WHPHIA9CZG', 'ALZCIZPZ5W444', 'A1YIGXBU6FQQ6C', 'AO2WNSGOXAX52', 'A11W99OO65FV4K', 'AKXJDNVRKOMKM', 'A3U1FJMSEUIH8K', 'AQB0TQPOGOFQE', 'A6Q8KZ37WBAZ1', 'A3RBC5DVESRSEB', 'A1E6X3813407HB', 'A11EMIH2OX2WCH', 'A1NBX5TZHF8UBY', 'A1Q56N80RJLQ7S', 'A3QYX9IDK31G78', 'AI0TZEH5DNODH', 'A16XI3JQN3EWLZ', 'ASH7SVFWH0KT1', 'A3JPTLJNNUWTVI', 'A39BAMDJ0EJ78Z', 'A3737WAE5ECT0M', '12345678912345', 'A27Q2XB1ISFUW8', 'ASS8RE4GEBJK6', 'A1D4JUDL9BADGN', 'A10GQMWX97XL8B', 'A3BS891GDX2MZS', 'A322PKD0V62M27', 'A2JVX26B7RO2MG', 'A36QBD8ZQDIP5R', 'A2EDZ671I19JM0', 'A2SMZFUQD0OCXS', 'AKNBC1TE88NDO', 'A3C2UQWQCZYK3J', 'A3SI89EVITCXAW', 'A2IYEMVOED3YKM', 'A2MKIXI9X3HJF4', 'ATT0YNUQ0SYVA', 'AU6VZO8Q030YE', 'A3BC13IWNQPXYZ', 'A3ED8F0IK5UVVI', 'A3EGJHCIXHK2F3', 'A28HWJIJNRZ157', 'A7WVKWZKY0IRD', 'A14MW5BIUAW2RP', 'A884S51YVTT4X', 'A1OGY1FRX8HZ1W', 'A3HDCP3ADQQSUR', 'A29FUWN0U6VAKI', 'A3GPYCHKB2KDLC', 'A28LMBOMBHXM7K', 'A2IXU3FG5NNBEX', 'A8SYEU005PXD3', 'A1O5B00HFYQEU8', 'ALJ25HC3J9OX0', 'A90B6DGZNL6OY']\n"
     ]
    }
   ],
   "source": [
    "ft = get_timed_workers(workers)\n",
    "print('full timers', ft)"
   ]
  },
  {
   "cell_type": "code",
   "execution_count": 4,
   "metadata": {},
   "outputs": [],
   "source": [
    "reduced = [w for w in workers if w['id'] in ft]"
   ]
  },
  {
   "cell_type": "code",
   "execution_count": 5,
   "metadata": {},
   "outputs": [
    {
     "name": "stdout",
     "output_type": "stream",
     "text": [
      "{'_id': {'$oid': '6092a90651888c0004b59dd2'}, 'time_entered': [{'$date': '2021-05-05T14:17:42.620Z'}], 'time_left': [{'$date': '2021-05-05T14:19:23.841Z'}], 'id': 'A3HZFB2JLF3JMY', 'qs_answered': [{'_id': {'$oid': '6092a93151888c0004b59dd6'}, 'id': 0, 'time': {'$date': '2021-05-05T14:18:25.661Z'}, 'answer': 1}], 'createdAt': {'$date': '2021-05-05T14:17:42.622Z'}, 'updatedAt': {'$date': '2021-05-05T14:19:23.841Z'}, '__v': 0}\n"
     ]
    }
   ],
   "source": [
    "id = 'A3HZFB2JLF3JMY'\n",
    "for x in reduced:\n",
    "    if x['id'] == id:\n",
    "        print(x)"
   ]
  },
  {
   "cell_type": "code",
   "execution_count": 6,
   "metadata": {
    "scrolled": true
   },
   "outputs": [
    {
     "data": {
      "text/plain": [
       "40"
      ]
     },
     "execution_count": 6,
     "metadata": {},
     "output_type": "execute_result"
    }
   ],
   "source": [
    "def get_full_time_workers(workers, ft, percentage_full_time, full_time_duration):\n",
    "    worker_times = {}\n",
    "    for entry in workers:\n",
    "        worker_id = entry['id']\n",
    "        if worker_id in ft:\n",
    "            enters = entry['time_entered']\n",
    "            lefts = entry['time_left']\n",
    "            for ix, e in enumerate(enters):\n",
    "                enter = datetime.datetime.strptime(e['$date'], '%Y-%m-%dT%H:%M:%S.%fZ')\n",
    "                left = datetime.datetime.strptime(lefts[ix]['$date'], '%Y-%m-%dT%H:%M:%S.%fZ')\n",
    "                duration = left - enter\n",
    "                if worker_id not in worker_times.keys():\n",
    "                    worker_times[worker_id] = []\n",
    "                worker_times[worker_id].append(duration)\n",
    "    good_workers = []\n",
    "    for w, l in worker_times.items():\n",
    "        total = len(l)\n",
    "        count = 0\n",
    "        for x in l:\n",
    "            time = x.total_seconds()\n",
    "            if time > full_time_duration*60:\n",
    "                count += 1\n",
    "        if count/total >= percentage_full_time:\n",
    "            good_workers.append(w)\n",
    "#         else:\n",
    "#             print(w)\n",
    "    return good_workers\n",
    "\n",
    "full_workers = get_full_time_workers(workers,ft, .7, 25)\n",
    "len(full_workers)"
   ]
  },
  {
   "cell_type": "code",
   "execution_count": 7,
   "metadata": {},
   "outputs": [],
   "source": [
    "full_time_workers = [w for w in reduced if w['id'] in full_workers]"
   ]
  },
  {
   "cell_type": "code",
   "execution_count": 8,
   "metadata": {},
   "outputs": [
    {
     "name": "stdout",
     "output_type": "stream",
     "text": [
      "48\n",
      "32\n",
      "37\n",
      "16\n",
      "12\n",
      "21\n",
      "29\n",
      "24\n",
      "21\n",
      "26\n",
      "20\n",
      "18\n",
      "5\n",
      "17\n",
      "16\n",
      "6\n",
      "6\n",
      "0\n",
      "14\n",
      "12\n",
      "17\n",
      "14\n",
      "12\n",
      "24\n",
      "9\n",
      "11\n",
      "11\n",
      "10\n",
      "13\n",
      "0\n",
      "0\n",
      "0\n",
      "7\n",
      "7\n",
      "7\n",
      "0\n",
      "7\n",
      "5\n",
      "5\n",
      "3\n"
     ]
    }
   ],
   "source": [
    "#number of questions answered by each worker who worked full time\n",
    "for worker in full_time_workers:\n",
    "    print(len(worker['qs_answered']))"
   ]
  },
  {
   "cell_type": "code",
   "execution_count": 9,
   "metadata": {},
   "outputs": [
    {
     "data": {
      "text/plain": [
       "31"
      ]
     },
     "execution_count": 9,
     "metadata": {},
     "output_type": "execute_result"
    }
   ],
   "source": [
    "def get_time_quality_workers(full_time_workers):\n",
    "    l = []\n",
    "    for worker in full_time_workers:\n",
    "        if len(worker['qs_answered']) > 5:\n",
    "            l.append(worker['id'])\n",
    "    return l\n",
    "            \n",
    "\n",
    "quality_workers = get_time_quality_workers(full_time_workers)\n",
    "len(quality_workers)"
   ]
  },
  {
   "cell_type": "code",
   "execution_count": 10,
   "metadata": {},
   "outputs": [],
   "source": [
    "quality_worker_info = [w for w in full_time_workers if w['id'] in quality_workers]"
   ]
  },
  {
   "cell_type": "code",
   "execution_count": 11,
   "metadata": {},
   "outputs": [],
   "source": [
    "def get_majority_votes(questions):\n",
    "    results = {}\n",
    "    for question in questions:\n",
    "        code = question['qID']\n",
    "        if code not in results:\n",
    "            votes = [a['answer'] for a in question['votes']]\n",
    "            results[code] = 1 if votes.count(1) >= votes.count(2) else 2\n",
    "    return results"
   ]
  },
  {
   "cell_type": "code",
   "execution_count": 12,
   "metadata": {},
   "outputs": [],
   "source": [
    "votes = get_majority_votes(questions)"
   ]
  },
  {
   "cell_type": "code",
   "execution_count": 13,
   "metadata": {},
   "outputs": [],
   "source": [
    "def get_final_outcome(questions):\n",
    "    results = {}\n",
    "    for question in questions:\n",
    "        code = question['qID']\n",
    "        if code not in results:\n",
    "            results[code] = question['true_answer']\n",
    "    return results"
   ]
  },
  {
   "cell_type": "code",
   "execution_count": 14,
   "metadata": {},
   "outputs": [],
   "source": [
    "true_answer = get_final_outcome(questions)"
   ]
  },
  {
   "cell_type": "code",
   "execution_count": 15,
   "metadata": {},
   "outputs": [],
   "source": [
    "simple_votes = get_majority_votes(questions)"
   ]
  },
  {
   "cell_type": "code",
   "execution_count": 16,
   "metadata": {},
   "outputs": [
    {
     "data": {
      "text/plain": [
       "0.7642276422764228"
      ]
     },
     "execution_count": 16,
     "metadata": {},
     "output_type": "execute_result"
    }
   ],
   "source": [
    "sm_agree_count = 0\n",
    "for k in simple_votes.keys():\n",
    "    if simple_votes[k] == true_answer[k]:\n",
    "        sm_agree_count += 1\n",
    "sm_agree_count/len(simple_votes)\n"
   ]
  },
  {
   "cell_type": "code",
   "execution_count": 17,
   "metadata": {},
   "outputs": [],
   "source": [
    "copouts = ['good', 'nice', 'weird', 'bad']"
   ]
  },
  {
   "cell_type": "code",
   "execution_count": 18,
   "metadata": {},
   "outputs": [],
   "source": [
    "def comment_quality(comment, user='-1'):\n",
    "    comment = comment.strip().lower()\n",
    "    score = math.log(len(comment.split(' ')) + 1)\n",
    "    if comment in copouts:\n",
    "        score /= 2\n",
    "    if user in quality_workers:\n",
    "        score *= 1.5\n",
    "    return score"
   ]
  },
  {
   "cell_type": "code",
   "execution_count": 19,
   "metadata": {},
   "outputs": [],
   "source": [
    "def get_quality_majority_votes(questions, worker_priority=False):\n",
    "    results = {}\n",
    "    for question in questions:\n",
    "        code = question['qID']\n",
    "        if code not in results:\n",
    "            vs = []\n",
    "            for v in question['votes']:\n",
    "                vs.append((v['answer'], comment_quality(v['comments'], v['worker_id'] if worker_priority else '-1')))\n",
    "            c1 = 0\n",
    "            c2 = 0\n",
    "            for x in vs:\n",
    "                if x[0] == 1:\n",
    "                    c1 += x[1]\n",
    "                else:\n",
    "                    c2 += x[1]\n",
    "            results[code] = 1 if c1 >= c2 else 2\n",
    "    return results"
   ]
  },
  {
   "cell_type": "code",
   "execution_count": 20,
   "metadata": {
    "scrolled": true
   },
   "outputs": [],
   "source": [
    "quality_votes = get_quality_majority_votes(questions)"
   ]
  },
  {
   "cell_type": "code",
   "execution_count": 21,
   "metadata": {},
   "outputs": [
    {
     "data": {
      "text/plain": [
       "0.7804878048780488"
      ]
     },
     "execution_count": 21,
     "metadata": {},
     "output_type": "execute_result"
    }
   ],
   "source": [
    "qual_agree_count = 0\n",
    "for k in quality_votes.keys():\n",
    "    if quality_votes[k] == true_answer[k]:\n",
    "        qual_agree_count += 1\n",
    "qual_agree_count/len(quality_votes)"
   ]
  },
  {
   "cell_type": "code",
   "execution_count": 22,
   "metadata": {},
   "outputs": [],
   "source": [
    "quality_votes2 = get_quality_majority_votes(questions, True)"
   ]
  },
  {
   "cell_type": "code",
   "execution_count": 23,
   "metadata": {},
   "outputs": [
    {
     "data": {
      "text/plain": [
       "0.8130081300813008"
      ]
     },
     "execution_count": 23,
     "metadata": {},
     "output_type": "execute_result"
    }
   ],
   "source": [
    "qual_agree_count2 = 0\n",
    "for k in quality_votes2.keys():\n",
    "    if quality_votes2[k] == true_answer[k]:\n",
    "        qual_agree_count2 += 1\n",
    "qual_agree_count2/len(quality_votes)"
   ]
  },
  {
   "cell_type": "code",
   "execution_count": 24,
   "metadata": {},
   "outputs": [
    {
     "name": "stdout",
     "output_type": "stream",
     "text": [
      "percent agreement majority [('A3HZFB2JLF3JMY', 1.0), ('A1DQ5LRPJJLHHJ', 1.0), ('A3A3R002WFC7U3', 1.0), ('A34SLWTNACPBMO', 1.0), ('A1WT9J6TTJDLKN', 1.0), ('ATYC149F9CG7M', 1.0), ('A304UJAE051J89', 1.0), ('A25YHJE4ME90MI', 1.0), ('A24SLIUJ4YTF1Y', 1.0), ('A1YIGXBU6FQQ6C', 1.0), ('AQB0TQPOGOFQE', 1.0), ('A3RBC5DVESRSEB', 1.0), ('AI0TZEH5DNODH', 1.0), ('A16XI3JQN3EWLZ', 1.0), ('ASH7SVFWH0KT1', 1.0), ('A1CX45M5UVAM9R', 1.0), ('A2HYYV0L5HT1IF', 1.0), ('A30PWMZ7YYT2AK', 1.0), ('A2VEXWRL8L31ZB', 1.0), ('AF1WAWGK3NIHN', 1.0), ('ALG1XBLARJ545', 1.0), ('A2JGWDPGYD5X0N', 1.0), ('ADCPL2HX8CB1U', 1.0), ('A3BC13IWNQPXYZ', 0.9090909090909091), ('A26OCSX1VUO9EV', 0.90625), ('A34T4R7G25LDJM', 0.8888888888888888), ('A12HQ561AI1UVY', 0.8823529411764706), ('A1CQDLI6UA2IW4', 0.8709677419354839), ('A34A8A4MZ1V53Y', 0.8666666666666667), ('A1B8BSFDFQJXSD', 0.8571428571428571), ('A3SI89EVITCXAW', 0.8571428571428571), ('A3GPYCHKB2KDLC', 0.8571428571428571), ('A3U7RDVJNFHHLZ', 0.8333333333333334), ('AO2WNSGOXAX52', 0.8333333333333334), ('A2WI5DVHW58TY4', 0.8260869565217391), ('A2XNLWE8B2EG2L', 0.8214285714285714), ('A10GQMWX97XL8B', 0.8076923076923077), ('A1W37DN2IF8QXV', 0.8064516129032258), ('A3QOMMIZTW0XF1', 0.8), ('ANK67E44WFQIL', 0.8), ('A2EDZ671I19JM0', 0.8), ('A1O5B00HFYQEU8', 0.8), ('A39BAMDJ0EJ78Z', 0.7857142857142857), ('A1H6DME332958N', 0.7777777777777778), ('A322PKD0V62M27', 0.7777777777777778), ('A3EGJHCIXHK2F3', 0.7777777777777778), ('A14MW5BIUAW2RP', 0.7692307692307693), ('A1KIAFYTOPEV2T', 0.75), ('A2JVX26B7RO2MG', 0.75), ('A36QBD8ZQDIP5R', 0.75), ('A361HNC4QAH0F', 0.75), ('A4D99Y82KOLC8', 0.75), ('A3180VXVP8MOIH', 0.75), ('APPU3QLC0TEHI', 0.75), ('A2IYEMVOED3YKM', 0.7272727272727273), ('A28HWJIJNRZ157', 0.7272727272727273), ('A3BS891GDX2MZS', 0.7142857142857143), ('A3O4JOOS6MOJN4', 0.7142857142857143), ('A8SYEU005PXD3', 0.7142857142857143), ('ASS8RE4GEBJK6', 0.7083333333333334), ('A3QYX9IDK31G78', 0.6923076923076923), ('A2MKIXI9X3HJF4', 0.6923076923076923), ('A7WVKWZKY0IRD', 0.6923076923076923), ('AM5YIWPRSLWFV', 0.6875), ('A1D4JUDL9BADGN', 0.6818181818181818), ('AWBY9I91COKC3', 0.6666666666666666), ('12345678912345', 0.6666666666666666), ('AVNP1F3CADQRW', 0.6666666666666666), ('AKNBC1TE88NDO', 0.6666666666666666), ('A2A6FH0F7LD9ND', 0.6666666666666666), ('AK2YUQUFZN1L6', 0.6666666666666666), ('A3H5ADBZ1TNQ3S', 0.6666666666666666), ('ADV9NWUNSG6WL', 0.6666666666666666), ('A2DJ77S8YRU2G3', 0.6666666666666666), ('A1OKCG9GQMGDGZ', 0.6666666666666666), ('A90B6DGZNL6OY', 0.6666666666666666), ('A27Q2XB1ISFUW8', 0.6551724137931034), ('A2J3M47NIOC1MC', 0.6111111111111112), ('123456PJ901234', 0.6), ('A2UOYYHRK0FLC9', 0.6), ('ALJ25HC3J9OX0', 0.6), ('A3S3C3QA7VT0X1', 0.5833333333333334), ('A3737WAE5ECT0M', 0.5714285714285714), ('AU6VZO8Q030YE', 0.5384615384615384), ('ABFRRSETOHS9U', 0.5365853658536586), ('AVJ2J2LH1WMQB', 0.5), ('A31TKPO1G3OPEI', 0.5), ('A38ZGWB47QTEY6', 0.5), ('A3E3R2Y577HGEN', 0.5), ('A3ED8F0IK5UVVI', 0.5), ('a2aplcdm5wb4d', 0.5), ('AUFZMDVKWZBU2', 0.5), ('A29FUWN0U6VAKI', 0.42857142857142855), ('A28LMBOMBHXM7K', 0.42857142857142855), ('A11EMIH2OX2WCH', 0.4166666666666667), ('ATT0YNUQ0SYVA', 0.4166666666666667), ('A2X2ZYBN4V4CA8', 0.4), ('A25HPJJ60WOVPZ', 0.34285714285714286), ('A1PUSSRD8P5HHH', 0.3333333333333333), ('A11W99OO65FV4K', 0.3333333333333333), ('A2SMZFUQD0OCXS', 0.3333333333333333), ('A3T5UAYFKJBVTA', 0.3333333333333333), ('A3I1BW5R5AIF8G', 0.25), ('A3U5D83UGFY23Y', 0.25), ('A3L7TVDAMZM0FG', 0.25), ('A2YO837C0O1E91', 0.0), ('A11W55U13HODN1', 0.0), ('A1VOTY43NOW4MW', 0.0), ('A1QCTGDWPL7F5G', 0.0), ('A1JG342PWI2PTC', 0.0), ('A30X66H0RILXAH', 0.0)]\n"
     ]
    }
   ],
   "source": [
    "#get workers who agree with the majority most often\n",
    "def get_agreement_majority(questions, simple_votes):\n",
    "    worker_agree = {}\n",
    "    worker_total = {}\n",
    "    for question in questions:\n",
    "        qid = question['qID']\n",
    "        votes = question['votes']\n",
    "        for v in votes:\n",
    "            w_id = v['worker_id']\n",
    "            if w_id not in worker_agree.keys():\n",
    "                worker_agree[w_id] = 0\n",
    "            if w_id not in worker_total.keys():\n",
    "                worker_total[w_id] = 0\n",
    "            response = v['answer']\n",
    "            vote = simple_votes[qid]\n",
    "            worker_total[w_id] += 1\n",
    "            if response == vote:\n",
    "                worker_agree[w_id] += 1\n",
    "    worker_percentages = [(wid, worker_agree[wid]/worker_total[wid]) for wid in worker_agree.keys()]\n",
    "    worker_percentages = sorted(worker_percentages, key = lambda x: x[1], reverse = True)\n",
    "    return worker_percentages\n",
    "\n",
    "agreement_majority = get_agreement_majority(questions, simple_votes)\n",
    "print('percent agreement majority', agreement_majority)"
   ]
  },
  {
   "cell_type": "code",
   "execution_count": 25,
   "metadata": {},
   "outputs": [
    {
     "name": "stdout",
     "output_type": "stream",
     "text": [
      "percent agreement majority [('A3QOMMIZTW0XF1', 1.0), ('A1DQ5LRPJJLHHJ', 1.0), ('A3A3R002WFC7U3', 1.0), ('A34SLWTNACPBMO', 1.0), ('A1WT9J6TTJDLKN', 1.0), ('ATYC149F9CG7M', 1.0), ('A304UJAE051J89', 1.0), ('A25YHJE4ME90MI', 1.0), ('A1QCTGDWPL7F5G', 1.0), ('A1JG342PWI2PTC', 1.0), ('A1YIGXBU6FQQ6C', 1.0), ('A3RBC5DVESRSEB', 1.0), ('AI0TZEH5DNODH', 1.0), ('A16XI3JQN3EWLZ', 1.0), ('ASH7SVFWH0KT1', 1.0), ('A1CX45M5UVAM9R', 1.0), ('ANK67E44WFQIL', 1.0), ('A2HYYV0L5HT1IF', 1.0), ('A30PWMZ7YYT2AK', 1.0), ('A30X66H0RILXAH', 1.0), ('A28LMBOMBHXM7K', 1.0), ('A2JGWDPGYD5X0N', 1.0), ('A2DJ77S8YRU2G3', 1.0), ('A1OKCG9GQMGDGZ', 1.0), ('A90B6DGZNL6OY', 1.0), ('A12HQ561AI1UVY', 0.8823529411764706), ('A1B8BSFDFQJXSD', 0.8571428571428571), ('A3SI89EVITCXAW', 0.8571428571428571), ('A2WI5DVHW58TY4', 0.8478260869565217), ('A3U7RDVJNFHHLZ', 0.8333333333333334), ('A3BC13IWNQPXYZ', 0.8181818181818182), ('A28HWJIJNRZ157', 0.8181818181818182), ('A26OCSX1VUO9EV', 0.8125), ('A34A8A4MZ1V53Y', 0.8), ('A2XNLWE8B2EG2L', 0.7857142857142857), ('A34T4R7G25LDJM', 0.7777777777777778), ('A322PKD0V62M27', 0.7777777777777778), ('A1CQDLI6UA2IW4', 0.7741935483870968), ('A2MKIXI9X3HJF4', 0.7692307692307693), ('AU6VZO8Q030YE', 0.7692307692307693), ('A1KIAFYTOPEV2T', 0.75), ('AVJ2J2LH1WMQB', 0.75), ('A4D99Y82KOLC8', 0.75), ('ALG1XBLARJ545', 0.75), ('A3180VXVP8MOIH', 0.75), ('APPU3QLC0TEHI', 0.75), ('A2EDZ671I19JM0', 0.7333333333333333), ('A3O4JOOS6MOJN4', 0.7142857142857143), ('A29FUWN0U6VAKI', 0.7142857142857143), ('A3QYX9IDK31G78', 0.6923076923076923), ('A10GQMWX97XL8B', 0.6923076923076923), ('A1D4JUDL9BADGN', 0.6818181818181818), ('A2J3M47NIOC1MC', 0.6666666666666666), ('A1PUSSRD8P5HHH', 0.6666666666666666), ('AO2WNSGOXAX52', 0.6666666666666666), ('A11W99OO65FV4K', 0.6666666666666666), ('AWBY9I91COKC3', 0.6666666666666666), ('A1H6DME332958N', 0.6666666666666666), ('AVNP1F3CADQRW', 0.6666666666666666), ('A2A6FH0F7LD9ND', 0.6666666666666666), ('A3EGJHCIXHK2F3', 0.6666666666666666), ('AK2YUQUFZN1L6', 0.6666666666666666), ('A3H5ADBZ1TNQ3S', 0.6666666666666666), ('ADV9NWUNSG6WL', 0.6666666666666666), ('ADCPL2HX8CB1U', 0.6666666666666666), ('A1W37DN2IF8QXV', 0.6451612903225806), ('A3737WAE5ECT0M', 0.6428571428571429), ('A39BAMDJ0EJ78Z', 0.6428571428571429), ('A2IYEMVOED3YKM', 0.6363636363636364), ('AM5YIWPRSLWFV', 0.625), ('A7WVKWZKY0IRD', 0.6153846153846154), ('A14MW5BIUAW2RP', 0.6153846153846154), ('123456PJ901234', 0.6), ('A2UOYYHRK0FLC9', 0.6), ('A3ED8F0IK5UVVI', 0.6), ('A2X2ZYBN4V4CA8', 0.6), ('A1O5B00HFYQEU8', 0.6), ('A3S3C3QA7VT0X1', 0.5833333333333334), ('12345678912345', 0.5714285714285714), ('A3GPYCHKB2KDLC', 0.5714285714285714), ('A2VEXWRL8L31ZB', 0.5555555555555556), ('A27Q2XB1ISFUW8', 0.5517241379310345), ('ASS8RE4GEBJK6', 0.5416666666666666), ('AQB0TQPOGOFQE', 0.5), ('A2JVX26B7RO2MG', 0.5), ('A36QBD8ZQDIP5R', 0.5), ('A2SMZFUQD0OCXS', 0.5), ('AKNBC1TE88NDO', 0.5), ('A3E3R2Y577HGEN', 0.5), ('a2aplcdm5wb4d', 0.5), ('AUFZMDVKWZBU2', 0.5), ('ABFRRSETOHS9U', 0.4878048780487805), ('A3BS891GDX2MZS', 0.47619047619047616), ('A25HPJJ60WOVPZ', 0.42857142857142855), ('A8SYEU005PXD3', 0.42857142857142855), ('A11EMIH2OX2WCH', 0.4166666666666667), ('ALJ25HC3J9OX0', 0.4), ('A3T5UAYFKJBVTA', 0.3333333333333333), ('A361HNC4QAH0F', 0.25), ('A3I1BW5R5AIF8G', 0.25), ('A3U5D83UGFY23Y', 0.25), ('ATT0YNUQ0SYVA', 0.25), ('A3L7TVDAMZM0FG', 0.25), ('A31TKPO1G3OPEI', 0.16666666666666666), ('A3HZFB2JLF3JMY', 0.0), ('A2YO837C0O1E91', 0.0), ('A11W55U13HODN1', 0.0), ('A1VOTY43NOW4MW', 0.0), ('A24SLIUJ4YTF1Y', 0.0), ('A38ZGWB47QTEY6', 0.0), ('AF1WAWGK3NIHN', 0.0)]\n"
     ]
    }
   ],
   "source": [
    "#get workers who agree with the true outcome most often\n",
    "def get_agreement_outcome(questions, true_answers):\n",
    "    worker_agree = {}\n",
    "    worker_total = {}\n",
    "    for question in questions:\n",
    "        qid = question['qID']\n",
    "        votes = question['votes']\n",
    "        for v in votes:\n",
    "            w_id = v['worker_id']\n",
    "            if w_id not in worker_agree.keys():\n",
    "                worker_agree[w_id] = 0\n",
    "            if w_id not in worker_total.keys():\n",
    "                worker_total[w_id] = 0\n",
    "            response = v['answer']\n",
    "            vote = true_answers[qid]\n",
    "            worker_total[w_id] += 1\n",
    "            if response == vote:\n",
    "                worker_agree[w_id] += 1\n",
    "    worker_percentages = [(wid, worker_agree[wid]/worker_total[wid]) for wid in worker_agree.keys()]\n",
    "    worker_percentages = sorted(worker_percentages, key = lambda x: x[1], reverse = True)\n",
    "    return worker_percentages\n",
    "\n",
    "agreement_outcome = get_agreement_outcome(questions, true_answer)\n",
    "print('percent agreement majority', agreement_outcome)"
   ]
  },
  {
   "cell_type": "code",
   "execution_count": 26,
   "metadata": {},
   "outputs": [],
   "source": [
    "majority_agreements = {k:v for k, v in agreement_majority}\n",
    "outcome_agreements = {k:v for k, v in agreement_outcome}"
   ]
  },
  {
   "cell_type": "code",
   "execution_count": 27,
   "metadata": {},
   "outputs": [],
   "source": [
    "top_workers = []\n",
    "for w in quality_workers:\n",
    "    if majority_agreements[w] > .75 and outcome_agreements[w] > .75:\n",
    "        top_workers.append(w)"
   ]
  },
  {
   "cell_type": "code",
   "execution_count": 28,
   "metadata": {},
   "outputs": [
    {
     "data": {
      "text/plain": [
       "5"
      ]
     },
     "execution_count": 28,
     "metadata": {},
     "output_type": "execute_result"
    }
   ],
   "source": [
    "len(top_workers)"
   ]
  },
  {
   "cell_type": "code",
   "execution_count": null,
   "metadata": {},
   "outputs": [],
   "source": [
    "#time until 5 responses"
   ]
  },
  {
   "cell_type": "code",
   "execution_count": 30,
   "metadata": {},
   "outputs": [],
   "source": [
    "many_votes = [q for q in questions if len(q['votes']) >= 9]"
   ]
  },
  {
   "cell_type": "code",
   "execution_count": 31,
   "metadata": {},
   "outputs": [],
   "source": [
    "five_votes_time = []\n",
    "for q in many_votes:\n",
    "    start_time = datetime.datetime.strptime(q['time']['$date'], '%Y-%m-%dT%H:%M:%S.%fZ')\n",
    "    end_time = datetime.datetime.strptime(q['votes'][4]['time_answered']['$date'], '%Y-%m-%dT%H:%M:%S.%fZ')\n",
    "    time_elapsed = end_time - start_time\n",
    "    five_votes_time.append(time_elapsed.total_seconds())"
   ]
  },
  {
   "cell_type": "code",
   "execution_count": 32,
   "metadata": {},
   "outputs": [],
   "source": [
    "import statistics"
   ]
  },
  {
   "cell_type": "code",
   "execution_count": 33,
   "metadata": {},
   "outputs": [
    {
     "data": {
      "text/plain": [
       "53.51331111111111"
      ]
     },
     "execution_count": 33,
     "metadata": {},
     "output_type": "execute_result"
    }
   ],
   "source": [
    "statistics.mean(five_votes_time)"
   ]
  },
  {
   "cell_type": "code",
   "execution_count": 34,
   "metadata": {
    "scrolled": true
   },
   "outputs": [
    {
     "data": {
      "text/plain": [
       "43.246"
      ]
     },
     "execution_count": 34,
     "metadata": {},
     "output_type": "execute_result"
    }
   ],
   "source": [
    "statistics.median(five_votes_time)"
   ]
  },
  {
   "cell_type": "code",
   "execution_count": 35,
   "metadata": {},
   "outputs": [],
   "source": [
    "import matplotlib.pyplot as plt"
   ]
  },
  {
   "cell_type": "code",
   "execution_count": 36,
   "metadata": {},
   "outputs": [
    {
     "data": {
      "image/png": "[encoded data removed]",
      "text/plain": [
       "<Figure size 432x288 with 1 Axes>"
      ]
     },
     "metadata": {
      "needs_background": "light"
     },
     "output_type": "display_data"
    }
   ],
   "source": [
    "plt.hist(five_votes_time)\n",
    "plt.show()"
   ]
  }
 ],
 "metadata": {
  "kernelspec": {
   "display_name": "Python 3",
   "language": "python",
   "name": "python3"
  },
  "language_info": {
   "codemirror_mode": {
    "name": "ipython",
    "version": 3
   },
   "file_extension": ".py",
   "mimetype": "text/x-python",
   "name": "python",
   "nbconvert_exporter": "python",
   "pygments_lexer": "ipython3",
   "version": "3.7.3"
  }
 },
 "nbformat": 4,
 "nbformat_minor": 2
}
